{
 "cells": [
  {
   "cell_type": "code",
   "execution_count": null,
   "id": "018408ff-5325-4f14-820e-551271610ac4",
   "metadata": {},
   "outputs": [],
   "source": [
    "import os, gspread, openpyxl, fnmatch, requests, time, datetime, re, pickle\n",
    "import pandas as pd\n",
    "import numpy as np\n",
    "from datetime import date\n",
    "\n",
    "from selenium import webdriver\n",
    "from selenium.webdriver import Firefox\n",
    "from selenium.webdriver import DesiredCapabilities\n",
    "from selenium.webdriver.firefox.service import Service\n",
    "from selenium.webdriver.firefox.options import Options\n",
    "from selenium.webdriver.common.by import By\n",
    "from time import sleep\n",
    "from helium import *\n",
    "from bs4 import BeautifulSoup\n",
    "\n",
    "\n",
    "#Gmail API utils\n",
    "from googleapiclient.discovery import build\n",
    "from google_auth_oauthlib.flow import InstalledAppFlow\n",
    "from google.auth.transport.requests import Request\n",
    "#for encoding/decoding messages in base64\n",
    "from base64 import urlsafe_b64decode, urlsafe_b64encode"
   ]
  },
  {
   "cell_type": "markdown",
   "id": "f359e6bd-496b-46e9-bc72-c562b917f680",
   "metadata": {},
   "source": [
    "This code imports various libraries and modules needed for a Python script that automates a reporting process. The script uses gspread, openpyxl, and pandas for working with spreadsheets, Selenium and Helium for web scraping, the Google API for accessing email data and Google Sheets, and BeautifulSoup for parsing HTML content. "
   ]
  },
  {
   "cell_type": "code",
   "execution_count": null,
   "id": "642a92c7-7dbb-430e-bb33-2f885d6cc91a",
   "metadata": {},
   "outputs": [],
   "source": [
    "# selenium driver launch\n",
    "profile_path = r'<File Path>'\n",
    "options = Options()\n",
    "options.profile = profile_path\n",
    "service = Service('geckodriver.exe')\n",
    "driver = start_firefox('<URL>',options=options, headless=False)\n",
    "\n"
   ]
  },
  {
   "cell_type": "markdown",
   "id": "23fca655-968c-4c79-befd-608001f88cc8",
   "metadata": {},
   "source": [
    "Selenium driver launch:\n",
    "This section sets up and launches a Selenium WebDriver for Firefox browser automation with a specified profile path and options."
   ]
  },
  {
   "cell_type": "code",
   "execution_count": null,
   "id": "d00e79b4-68b2-488d-9d89-573f66d642af",
   "metadata": {},
   "outputs": [],
   "source": [
    "advertising_cred = r'<File Path to credientials.json>'\n",
    "advertising_user = r'<File Path to authorized_user.json>'\n",
    "\n",
    "# Request Gmail all access (permission to read/send/receive emails, manage the inbox, and more)\n",
    "SCOPES = ['https://mail.google.com/']"
   ]
  },
  {
   "cell_type": "markdown",
   "id": "85ce4715-1d00-4dd8-9766-f83174be99d9",
   "metadata": {},
   "source": [
    "File paths for credentials and authorized users:\n",
    "This part defines file paths for different Google API credentials and authorized users."
   ]
  },
  {
   "cell_type": "code",
   "execution_count": null,
   "id": "e55c074b-7bdd-4c4c-9dd9-ca1896b8c0aa",
   "metadata": {},
   "outputs": [],
   "source": [
    "# Google Sheet Authenticate\n",
    "gc = gspread.oauth(\n",
    "    credentials_filename = advertising_cred,\n",
    "    authorized_user_filename = advertising_user\n",
    ")"
   ]
  },
  {
   "cell_type": "markdown",
   "id": "23a3ca81-0dba-4d52-80a2-82b8c3b75a81",
   "metadata": {},
   "source": [
    "Google Sheets authentication:\n",
    "This part initializes a gspread client using the provided credentials."
   ]
  },
  {
   "cell_type": "code",
   "execution_count": null,
   "id": "175687da-64d7-45b0-a2bd-32dd592782ff",
   "metadata": {},
   "outputs": [],
   "source": [
    "# Gmail Authentication\n",
    "\n",
    "def gmail_authenticate():\n",
    "    creds = None\n",
    "    if os.path.exists(\"token.pickle\"):\n",
    "        with open(\"token.pickle\", \"rb\") as token:\n",
    "            creds = pickle.load(token)\n",
    "    if not creds or not creds.valid:\n",
    "        if creds and creds.expired and creds.refresh_token:\n",
    "            creds.refresh(Request())\n",
    "        else:\n",
    "            flow = InstalledAppFlow.from_client_secrets_file(r'C:\\Users\\csakp\\AppData\\Roaming\\gspread\\credentials-esb-m.json', SCOPES)\n",
    "            creds = flow.run_local_server(port=0)\n",
    "        with open(\"token.pickle\", \"wb\") as token:\n",
    "            pickle.dump(creds, token)\n",
    "    return build('gmail', 'v1', credentials=creds)\n",
    "\n",
    "service = gmail_authenticate()"
   ]
  },
  {
   "cell_type": "markdown",
   "id": "143ce757-0b9c-452e-9e2d-cd4f55eded07",
   "metadata": {},
   "source": [
    "Gmail authentication:\n",
    "This section defines a function, gmail_authenticate(), that authenticates the user with Gmail using a token.pickle file and the provided credentials. It returns a Gmail API service object."
   ]
  },
  {
   "cell_type": "code",
   "execution_count": null,
   "id": "a519f4b3-0f60-4fe8-990d-ca7bcd196dc6",
   "metadata": {},
   "outputs": [],
   "source": [
    "# log into platform\n",
    "def websiteDownload():\n",
    "    print('Logging into <\"Platform\">...')\n",
    "    \n",
    "    write([Username], into='Username')\n",
    "    write([Password], into='Password')\n",
    "    click('Log in')\n",
    "    time.sleep(3)\n",
    "\n",
    "    # Search for \"Ready for download\" and zoom out to find all reports\n",
    "    write('Ready for download', into=TextField('Filter Reports'))\n",
    "    \n",
    "    driver.set_context(\"chrome\")\n",
    "    win = driver.find_element_by_tag_name(\"html\")\n",
    "    for _ in range(5):\n",
    "        win.send_keys(Keys.CONTROL + \"-\")\n",
    "    driver.set_context(\"content\")\n",
    "    time.sleep(3)\n",
    "    \n",
    "    # Download and save reports to folder\n",
    "    report_links = driver.find_elements_by_link_text('Ready for download')\n",
    "    \n",
    "    print('Downloading <Platform> Reports')\n",
    "    for i, link in enumerate(report_links):\n",
    "        switch_to('<Platform> - Report Builder')\n",
    "        click(link)\n",
    "        print(f'{i}. ', end=' ')\n",
    "        time.sleep(2)\n",
    "        \n",
    "    print('\\nFinished downloading [Platform] reports')\n",
    "    switch_to('<Platform> - Report Builder')"
   ]
  },
  {
   "cell_type": "markdown",
   "id": "d871b074-9bb3-46ad-85df-eb54fd872b19",
   "metadata": {},
   "source": [
    "This function logs into the platform with Selenium, filters the reports, zooms out in browser to find all reports, and downloads them by clicking Ready for download button."
   ]
  },
  {
   "cell_type": "code",
   "execution_count": null,
   "id": "bc55a2c7-84cf-4182-83cd-ff8c64913757",
   "metadata": {},
   "outputs": [],
   "source": [
    "def download_LSA():\n",
    "    # Download LSA from MCC with Selenium\n",
    "    go_to('<Google LSA Ads MCC URL>')\n",
    "    time.sleep(5)\n",
    "    \n",
    "    # Select custom date range in drop down\n",
    "    click(S(\"//*[@class=\\\"DPvwYc\\\"]\"))\n",
    "    time.sleep(0.5)\n",
    "    click(\"Custom\")\n",
    "    time.sleep(0.5)\n",
    "    \n",
    "    # Set start date to previous month's first day\n",
    "    x = datetime.datetime.now()\n",
    "    start_date = x.replace(day=1) - datetime.timedelta(days=1)\n",
    "    start_date_str = start_date.strftime('%m/%d/%Y')\n",
    "    write(start_date_str, into=TextField('Start date'))\n",
    "    \n",
    "    # Set end date to previous month's last day\n",
    "    end_date = x.replace(day=1) - datetime.timedelta(days=1)\n",
    "    end_date_str = end_date.strftime('%m/%d/%Y')\n",
    "    write(end_date_str, into=TextField('End date'))\n",
    "    \n",
    "    # Click apply\n",
    "    click(S(\"//*[@jsname=\\\"k2hvje\\\"]\"))\n",
    "    time.sleep(4.5)\n",
    "    \n",
    "    # Generate report\n",
    "    switch_to('MCC Reports')\n",
    "    click(S(\"//*[@jsname=\\\"hRZeKc\\\"]\"))\n",
    "    time.sleep(.5)\n",
    "    \n",
    "    # Download report\n",
    "    click(Button(\"Download\"))\n",
    "    time.sleep(2)\n",
    "    \n",
    "    # If download button doesn't work, try again\n",
    "    if Text('Please select a report to download.').exists():\n",
    "        click(Button(\"Download\"))\n",
    "        time.sleep(2)\n",
    "        \n",
    "    driver.close()\n",
    "    print('LSA Downloaded', '\\n')\n"
   ]
  },
  {
   "cell_type": "markdown",
   "id": "4202f974-9c83-422d-9e9f-1df51b08ab6b",
   "metadata": {},
   "source": [
    "This function uses Selenium to download a Local Service Ads report from the Google LSA Ads MCC website. It selects a custom date range and downloads the report, retrying if necessary. The downloaded file is then saved to a specified location."
   ]
  },
  {
   "cell_type": "code",
   "execution_count": null,
   "id": "13201626-5908-41a2-97d4-b2d9efeb372b",
   "metadata": {},
   "outputs": [],
   "source": [
    "def downloadMW():\n",
    "    print('Getting MW Report URL')\n",
    "    # Get the latest email with MW thread\n",
    "    result = service.users().messages().list(userId='me', q=\"<Report Name>\").execute()\n",
    "    result = result['messages'][0]\n",
    "\n",
    "    # Parse email extracting 'data' section for full URL\n",
    "    msg = service.users().messages().get(\n",
    "        userId='me',\n",
    "        id=result['id'],\n",
    "        format='full').execute()\n",
    "\n",
    "    # Decode data into URL string\n",
    "    nText = str(urlsafe_b64decode(msg['payload']['body']['data']).decode())\n",
    "    dlUrl = re.search(\"(?P<url>https?://[^\\s]+)\", nText).group(\"url\")\n",
    "\n",
    "    r = requests.get(dlUrl, allow_redirects=True)\n",
    "    open(r'PATH/TO/DESTINATION/<Report>.csv', 'wb').write(r.content)\n",
    "\n",
    "    print('Downloaded Report')\n",
    "    print('Finished Downloading Reports')"
   ]
  },
  {
   "cell_type": "markdown",
   "id": "7e1254d7-9004-4234-8e5f-7fbf93e06afc",
   "metadata": {},
   "source": [
    "This function downloads the latest reports from an email, extracts the download URL from the email, and downloads the report file to a specified location on the local machine."
   ]
  },
  {
   "cell_type": "code",
   "execution_count": null,
   "id": "0aa16e65-4481-48c4-bf0d-1ad5cae810ac",
   "metadata": {},
   "outputs": [],
   "source": [
    "# Upload Call Tracking Report To GSheet\n",
    "def msreport():\n",
    "    path = os.chdir(r'PATH/TO/DESTINATION/<Reports Folder>')\n",
    "    mfile = next((name for name in os.listdir(path) if fnmatch.fnmatch(name, '<Report Name Prefix>')), '')\n",
    "\n",
    "    print(f'Found {mfile}')\n",
    "\n",
    "    fh = mfile\n",
    "    df = pd.read_excel(fh, usecols=\"A:G\")\n",
    "    print('Done reading xlsx file...')\n",
    "\n",
    "    sh = gc.open('<Google Sheets of Report> ')\n",
    "    wks = sh.worksheet('<Worksheet Name>')\n",
    "    print('Converting formatting...')\n",
    "    \n",
    "    \n",
    "    df['Lead'] = df['Lead'].astype(bool).astype(str)\n",
    "    df['Call Date'] = df['Call Date'].dt.strftime('%m/%d/%Y')\n",
    "    df = df.fillna('').drop(df.tail(1).index)\n",
    "    print(f'New data date: {df.iloc[-1][0]}')\n",
    "    \n",
    "    pasteOn = wks.acell('A5').value\n",
    "    print(wks.update(f\"{pasteOn}:G\",df.values.tolist(),value_input_option=\"user_entered\"))\n",
    "    print(f'Done updating {sh.title}')"
   ]
  },
  {
   "cell_type": "markdown",
   "id": "437e0031-892d-43f1-901e-a25086fd65b4",
   "metadata": {},
   "source": [
    "This code reads an Excel file, converts data types, fills NaN values, and updates a Google Sheet with the data. It first searches for the Excel file in a directory, then reads it into a pandas dataframe. After converting and filling the data, it updates a specific worksheet in a Google Sheet with the new data."
   ]
  },
  {
   "cell_type": "code",
   "execution_count": null,
   "id": "7843357b-3e42-428a-bbd8-0fcccd52d0e8",
   "metadata": {},
   "outputs": [],
   "source": [
    "#Create Metrics and Domains Dictionaries\n",
    "metricsDict = {}\n",
    "domainsDict = {}\n",
    "\n",
    "def create_metrics_dict():\n",
    "    print('Creating Metrics Dict')\n",
    "    path = os.chdir(r'PATH/TO/DESTINATION/<Reports Folder>')\n",
    "    sh = gc.open('Daily Reporting Info')\n",
    "    wks = sh.worksheet('APA')\n",
    "    \n",
    "    apa_dict = {}\n",
    "    values_list = wks.get_all_values()\n",
    "\n",
    "    for row in values_list[1:]:\n",
    "        if row[1] == 'Active':\n",
    "            apa_dict[row[0]] = {\n",
    "                'Gsheet': row[3],\n",
    "                'Worksheet': row[5],\n",
    "                'URL': row[6],\n",
    "                'Csv': row[7]\n",
    "            }\n",
    "    \n",
    "    print('APA Dictionary Created')\n",
    "    \n",
    "\n",
    "def create_domains_dict():\n",
    "    print('Creating Domains Dict')\n",
    "    path = os.chdir(r'PATH/TO/DESTINATION/<Reports Folder>')\n",
    "    sh = gc.open('Daily Reporting Info')\n",
    "    wks = sh.worksheet('Domains')\n",
    "    \n",
    "    domains_dict = {}\n",
    "    values_list = wks.get_all_values()\n",
    "    \n",
    "    for row in values_list[1:]:\n",
    "        if row[1] == 'Active':\n",
    "            domains_dict[row[0]] = {\n",
    "                'Gsheet': row[3],\n",
    "                'Worksheet': row[5],\n",
    "                'URL': row[6],\n",
    "                'Csv': row[7],\n",
    "                'lastCol': row[9]\n",
    "            }\n",
    "\n",
    "    print('Domains Dictionary Created')"
   ]
  },
  {
   "cell_type": "markdown",
   "id": "2fcfafc3-2a3b-427e-ab81-6e400730509a",
   "metadata": {},
   "source": [
    "The code defines two functions, create_metrics_dict() and create_domains_dict(), that create dictionaries containing information about metrics and domains, respectively. The functions read data from a Google Sheet named \"Daily Reporting Info\" and extract the necessary information based on certain criteria, such as only considering rows with an \"Active\" status. The resulting dictionaries are used later in the program to retrieve specific information about metrics and domains."
   ]
  },
  {
   "cell_type": "code",
   "execution_count": null,
   "id": "2e6f7cd2-4b62-44dd-a321-920649df4cdb",
   "metadata": {},
   "outputs": [],
   "source": [
    "def update_apa_reports():\n",
    "    count = 1\n",
    "\n",
    "    for account in apaDict:\n",
    "        print(f'Starting {account}\\'s report {count}/{len(apaDict)}')\n",
    "        mfile = apaDict[account]['Csv']\n",
    "        print(f'Opening {mfile}')\n",
    "        df = pd.read_csv(mfile, header=4)\n",
    "\n",
    "        sh = gc.open_by_key(apaDict[account]['Gsheet'])\n",
    "        wks = sh.get_worksheet_by_id(int(apaDict[account]['Worksheet']))\n",
    "        \n",
    "        rl = wks.find(\"Rows Left\")\n",
    "        rowsleft = wks.cell(rl.row+1, rl.col).value\n",
    "        print(f'Rows left {rowsleft}')\n",
    "        oldRowcount = wks.row_count\n",
    "        print(f'Old row count {oldRowcount}')\n",
    "        \n",
    "        print(f'New data date: {df.iloc[-1][0]}')\n",
    "        df['Date'] = df['Date'].astype(str)\n",
    "        df['Order ID'] = df['Order ID'].astype(str)\n",
    "        df = df.fillna('')\n",
    "        df.dropna(how='all',inplace=True)\n",
    "\n",
    "        cell = wks.find(\"Paste On\")\n",
    "        pasteOn = wks.cell(cell.row+1, cell.col).value\n",
    "        print(f'Pasting on {pasteOn}')\n",
    "\n",
    "        print(wks.update(f\"{pasteOn}:L\",df.values.tolist(),value_input_option=\"user_entered\"))\n",
    "        print(f'Done updating {sh.title}' + '\\n')\n",
    "        count += 1\n",
    "        time.sleep(20)\n",
    "\n",
    "    print(f'Finished Updating APA Reports')\n",
    "    \n",
    "    \n",
    "def update_domains_reports():\n",
    "    count = 1\n",
    "    today = date.today()\n",
    "    todayStr = date.isoformat(today)\n",
    "\n",
    "    for account in domainsDict:\n",
    "        print(f'Starting {account}\\'s report {count}/{len(domainsDict)}')\n",
    "        mfile = domainsDict[account]['Csv']\n",
    "        \n",
    "        print(f'Opening {mfile}')\n",
    "        df = pd.read_csv(mfile, header=4)\n",
    "        \n",
    "        sh = gc.open_by_key(domainsDict[account]['Gsheet'])\n",
    "        wks = sh.get_worksheet_by_id(int(domainsDict[account]['Worksheet']))\n",
    "        oldRowcount = wks.row_count\n",
    "        print(f'Old row count {oldRowcount}')\n",
    "        \n",
    "        \n",
    "        print(f'New data date: {df.iloc[-1][0]}')\n",
    "        df[df.columns[0]] = df[df.columns[0]].astype(str)\n",
    "        df['Order ID'] = df['Order ID'].astype(str)\n",
    "        df = df.fillna('')\n",
    "        df.dropna(how='all', inplace=True)\n",
    "\n",
    "        cell = wks.find(\"Paste On\")\n",
    "        pasteOn = wks.cell(cell.row+1, cell.col).value\n",
    "        print(f'Pasting on {pasteOn}')\n",
    "        print(f\"Last col is {domainsDict[account]['lastCol']}\")\n",
    "        \n",
    "        print(wks.update(f\"{pasteOn}:{domainsDict[account]['lastCol']}\", df.values.tolist(), value_input_option=\"user_entered\"))\n",
    "        \n",
    "        lu_cell = wks.find(\"Last Updated\")\n",
    "        wks.update_cell(lu_cell.row+1, lu_cell.col, todayStr)\n",
    "        \n",
    "        print(f'Last Updated Date changed to {todayStr}')\n",
    "        print(f'Done updating {sh.title}' + '\\n')\n",
    "        count += 1\n",
    "        time.sleep(20)\n",
    "\n",
    "    print(f'Finished Updating Domains Reports')"
   ]
  },
  {
   "cell_type": "markdown",
   "id": "55939566-8b61-4ee2-8fde-257c99a7ffce",
   "metadata": {},
   "source": [
    "The update_apa_reports() function loops through each account in the apaDict dictionary, reads in a CSV file, and pastes the data into a specific worksheet within a Google Sheet, with the paste location defined by a cell labeled \"Paste On\" within the worksheet. It also updates the cell containing the number of rows left and the \"New data date\" value within the console output.\n",
    "\n",
    "Similarly, the update_domains_reports() function loops through each account in the domainsDict dictionary, reads in a CSV file, and pastes the data into a specific worksheet within a Google Sheet. In addition to updating the \"Paste On\" cell and the \"New data date\" value within the console output, this function also updates the \"Last Updated\" date for the worksheet."
   ]
  },
  {
   "cell_type": "code",
   "execution_count": null,
   "id": "5f5247d5-c4fb-496d-b263-c13875c95b21",
   "metadata": {},
   "outputs": [],
   "source": [
    "def lsa_report():\n",
    "    path = os.chdir(r'PATH/TO/DESTINATION/<Reports Folder>')\n",
    "\n",
    "    # Find the latest LSA account report file\n",
    "    mfile = next((name for name in os.listdir(path) if fnmatch.fnmatch(name, 'LSA_account*')), '')\n",
    "    print(f'Found {mfile}')\n",
    "\n",
    "    # Read the CSV file into a DataFrame\n",
    "    df = pd.read_csv(os.path.join(path, mfile))\n",
    "    print('Opening CSV file...')\n",
    "\n",
    "    # Open the target Google Sheet and select the worksheet to update\n",
    "    sh = gc.open('LSA Billing 2022')\n",
    "    wks = sh.worksheet('LSA Paste')\n",
    "    print('Converting formatting...')\n",
    "\n",
    "    # Fill any missing values with an empty string\n",
    "    df = df.fillna('')\n",
    "\n",
    "    # Find the cell to start pasting data on\n",
    "    pasteOn = wks.acell('A5').value\n",
    "\n",
    "    # Update the worksheet with the data from the CSV file\n",
    "    print(wks.update(f\"{pasteOn}:Q\", df.values.tolist(), value_input_option=\"user_entered\"))\n",
    "    \n",
    "    # Update the Last Updated cell with the current date\n",
    "    today = date.today()\n",
    "    todayStr = date.isoformat(today)\n",
    "    LUpaste = wks.find(\"Last Updated\").offset(1, 0)\n",
    "    LUpaste.value = todayStr\n",
    "    wks.update_cell(LUpaste.row, LUpaste.col, todayStr)\n",
    "    print(f'Last Updated Date changed to {todayStr}')\n",
    "    print(f'Done updating {sh.title}')\n",
    "\n",
    "    "
   ]
  },
  {
   "cell_type": "markdown",
   "id": "e8df08b1-23d3-4b04-9dfa-fb951ba49d7b",
   "metadata": {},
   "source": [
    "This code automates the updating of a Google Sheet with data from a CSV file containing LSA account report. It looks for the latest LSA account report file in the specified folder, reads it into a DataFrame, and updates the target Google Sheet with the data from the CSV file. The code fills any missing values with an empty string and updates the \"Last Updated\" cell with the current date."
   ]
  },
  {
   "cell_type": "code",
   "execution_count": null,
   "id": "a7bd25f6-3e89-4aa3-8352-0a9b4c50af40",
   "metadata": {},
   "outputs": [],
   "source": [
    "def clearFolder():\n",
    "    path = os.chdir(r'PATH/TO/DESTINATION/<Reports Folder>')\n",
    "    for name in os.listdir(path):\n",
    "            os.remove(name)\n",
    "    print('Folder Cleared')\n"
   ]
  },
  {
   "cell_type": "markdown",
   "id": "97886cf0-6891-45c4-8424-a7b077ca640a",
   "metadata": {},
   "source": [
    "The code clears all files in a specified folder by iterating through the files and deleting them using the os.remove() method. It then prints \"Folder Cleared\"."
   ]
  }
 ],
 "metadata": {
  "kernelspec": {
   "display_name": "Python 3 (ipykernel)",
   "language": "python",
   "name": "python3"
  },
  "language_info": {
   "codemirror_mode": {
    "name": "ipython",
    "version": 3
   },
   "file_extension": ".py",
   "mimetype": "text/x-python",
   "name": "python",
   "nbconvert_exporter": "python",
   "pygments_lexer": "ipython3",
   "version": "3.9.7"
  }
 },
 "nbformat": 4,
 "nbformat_minor": 5
}
